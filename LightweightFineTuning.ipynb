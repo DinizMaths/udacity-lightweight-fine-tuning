{
  "cells": [
    {
      "cell_type": "markdown",
      "id": "f35354cd",
      "metadata": {
        "id": "f35354cd"
      },
      "source": [
        "# Lightweight Fine-Tuning Project"
      ]
    },
    {
      "cell_type": "markdown",
      "id": "560fb3ff",
      "metadata": {
        "id": "560fb3ff"
      },
      "source": [
        "* PEFT technique: Progressive Embedding Fine-Tuning (PEFT)\n",
        "* Model: GPT-2\n",
        "* Evaluation approach: Train-validation split, followed by evaluation on a separate test set\n",
        "* Fine-tuning dataset: Wikitext-103"
      ]
    },
    {
      "cell_type": "markdown",
      "source": [
        "# Import Libraries"
      ],
      "metadata": {
        "id": "dP37iv9uUCC3"
      },
      "id": "dP37iv9uUCC3"
    },
    {
      "cell_type": "code",
      "source": [
        "!pip install -q numpy pandas datasets transformers scikit-learn torch peft"
      ],
      "metadata": {
        "id": "XeUTkJDiUWqV"
      },
      "id": "XeUTkJDiUWqV",
      "execution_count": null,
      "outputs": []
    },
    {
      "cell_type": "code",
      "source": [
        "import torch\n",
        "\n",
        "import numpy as np\n",
        "import pandas as pd\n",
        "\n",
        "from datasets import load_dataset\n",
        "\n",
        "from transformers import AutoModelForCausalLM, GPT2Tokenizer, Trainer, TrainingArguments, DataCollatorWithPadding, Trainer, TrainingArguments\n",
        "\n",
        "from sklearn.metrics import accuracy_score, precision_score, recall_score, f1_score\n",
        "\n",
        "from peft import AutoPeftModelForCausalLM, LoraConfig, get_peft_model"
      ],
      "metadata": {
        "id": "eInMNmljUExz"
      },
      "id": "eInMNmljUExz",
      "execution_count": null,
      "outputs": []
    },
    {
      "cell_type": "code",
      "source": [
        "!pip freeze > requirements.txt"
      ],
      "metadata": {
        "id": "uUGyGWSnUqqS"
      },
      "id": "uUGyGWSnUqqS",
      "execution_count": null,
      "outputs": []
    },
    {
      "cell_type": "markdown",
      "source": [
        "# Auxiliar Functions"
      ],
      "metadata": {
        "id": "2qbcNVG-a1gP"
      },
      "id": "2qbcNVG-a1gP"
    },
    {
      "cell_type": "code",
      "source": [
        "def tokenize(input):\n",
        "    return tokenizer(input[\"text\"], truncation=True, padding=True)"
      ],
      "metadata": {
        "id": "TX1Xd0eVa38-"
      },
      "id": "TX1Xd0eVa38-",
      "execution_count": null,
      "outputs": []
    },
    {
      "cell_type": "code",
      "source": [
        "def compute_metrics(eval_pred):\n",
        "    predictions, labels = eval_pred\n",
        "    predictions = predictions.argmax(axis=1) if isinstance(predictions, np.ndarray) else np.argmax(predictions, axis=1)\n",
        "\n",
        "    return {\n",
        "        \"accuracy\": accuracy_score(labels, predictions),\n",
        "        \"precision\": precision_score(labels, predictions),\n",
        "        \"recall\": recall_score(labels, predictions),\n",
        "        \"f1\": f1_score(labels, predictions),\n",
        "    }\n"
      ],
      "metadata": {
        "id": "l2GXpNp8a512"
      },
      "id": "l2GXpNp8a512",
      "execution_count": null,
      "outputs": []
    },
    {
      "cell_type": "markdown",
      "source": [
        "# Load Dataset"
      ],
      "metadata": {
        "id": "tnb5w4MGQ_2s"
      },
      "id": "tnb5w4MGQ_2s"
    },
    {
      "cell_type": "code",
      "source": [
        "dataset = load_dataset(\"wikitext\", \"wikitext-103-raw-v1\")\n",
        "\n",
        "train_ds = dataset[\"train\"]\n",
        "test_ds = dataset[\"test\"]\n",
        "validation_ds = dataset[\"validation\"]"
      ],
      "metadata": {
        "id": "3kYGXv7nS4Yp"
      },
      "id": "3kYGXv7nS4Yp",
      "execution_count": null,
      "outputs": []
    },
    {
      "cell_type": "markdown",
      "source": [
        "## Example"
      ],
      "metadata": {
        "id": "bFCrBKYnY48Z"
      },
      "id": "bFCrBKYnY48Z"
    },
    {
      "cell_type": "code",
      "source": [
        "train_ds[\"text\"][:5]"
      ],
      "metadata": {
        "id": "9Ior62V2Y4cN"
      },
      "id": "9Ior62V2Y4cN",
      "execution_count": null,
      "outputs": []
    },
    {
      "cell_type": "markdown",
      "id": "de8d76bb",
      "metadata": {
        "id": "de8d76bb"
      },
      "source": [
        "# Loading and Evaluating a Foundation Model"
      ]
    },
    {
      "cell_type": "code",
      "source": [
        "device = torch.device(\"cuda\" if torch.cuda.is_available() else \"cpu\")\n",
        "\n",
        "device"
      ],
      "metadata": {
        "id": "hcXzlfkr11U7"
      },
      "id": "hcXzlfkr11U7",
      "execution_count": null,
      "outputs": []
    },
    {
      "cell_type": "code",
      "execution_count": null,
      "id": "f551c63a",
      "metadata": {
        "id": "f551c63a"
      },
      "outputs": [],
      "source": [
        "tokenizer = GPT2Tokenizer.from_pretrained(\"gpt2\")\n",
        "tokenizer.add_special_tokens({\"pad_token\": \"[PAD]\"})\n",
        "\n",
        "model = AutoModelForCausalLM.from_pretrained(\"gpt2\").to(device)"
      ]
    },
    {
      "cell_type": "code",
      "source": [
        "preprocessed_train_ds = train_ds.map(tokenize, batched=True)\n",
        "preprocessed_test_ds = test_ds.map(tokenize, batched=True)\n",
        "preprocessed_validation_ds = validation_ds.map(tokenize, batched=True)"
      ],
      "metadata": {
        "id": "JE6O4F9vADP4"
      },
      "id": "JE6O4F9vADP4",
      "execution_count": null,
      "outputs": []
    },
    {
      "cell_type": "code",
      "source": [
        "preprocessed_train_ds[\"text\"][:5]"
      ],
      "metadata": {
        "id": "Hxz2GokpOAAT"
      },
      "id": "Hxz2GokpOAAT",
      "execution_count": null,
      "outputs": []
    },
    {
      "cell_type": "code",
      "source": [
        "preprocessed_train_ds"
      ],
      "metadata": {
        "id": "sstLS-wgPzol"
      },
      "id": "sstLS-wgPzol",
      "execution_count": null,
      "outputs": []
    },
    {
      "cell_type": "code",
      "execution_count": null,
      "id": "019b9f55",
      "metadata": {
        "id": "019b9f55"
      },
      "outputs": [],
      "source": [
        "training_args = TrainingArguments(\n",
        "    output_dir=\"./results\",\n",
        "    evaluation_strategy=\"epoch\",\n",
        "    logging_dir=\"./logs\",\n",
        "    per_device_eval_batch_size=16,\n",
        "    report_to=\"tensorboard\",\n",
        "    num_train_epochs=1\n",
        ")\n",
        "\n",
        "trainer = Trainer(\n",
        "    model=model,\n",
        "    args=training_args,\n",
        "    tokenizer=tokenizer,\n",
        "    compute_metrics=compute_metrics,\n",
        ")"
      ]
    },
    {
      "cell_type": "code",
      "execution_count": null,
      "id": "5176b07f",
      "metadata": {
        "id": "5176b07f"
      },
      "outputs": [],
      "source": [
        "evaluation_result = trainer.evaluate(preprocessed_validation_ds)\n",
        "\n",
        "evaluation_result"
      ]
    },
    {
      "cell_type": "code",
      "source": [
        "inputs = tokenizer(\"Hello, my name is \", return_tensors=\"pt\")\n",
        "inputs = {k: v.to(device) for k, v in inputs.items()}\n",
        "\n",
        "outputs = model.generate(input_ids=inputs[\"input_ids\"], max_new_tokens=10)\n",
        "\n",
        "tokenizer.batch_decode(outputs)"
      ],
      "metadata": {
        "id": "DaqVSR_vwfHJ"
      },
      "id": "DaqVSR_vwfHJ",
      "execution_count": null,
      "outputs": []
    },
    {
      "cell_type": "markdown",
      "id": "4d52a229",
      "metadata": {
        "id": "4d52a229"
      },
      "source": [
        "# Performing Parameter-Efficient Fine-Tuning"
      ]
    },
    {
      "cell_type": "code",
      "execution_count": null,
      "id": "5775fadf",
      "metadata": {
        "id": "5775fadf"
      },
      "outputs": [],
      "source": [
        "config = LoraConfig()"
      ]
    },
    {
      "cell_type": "code",
      "execution_count": null,
      "id": "894046c0",
      "metadata": {
        "id": "894046c0"
      },
      "outputs": [],
      "source": [
        "lora_model = get_peft_model(model, config).to(device)\n",
        "\n",
        "lora_model.print_trainable_parameters()"
      ]
    },
    {
      "cell_type": "code",
      "source": [
        "training_args = TrainingArguments(\n",
        "    output_dir=\"./results\",\n",
        "    evaluation_strategy=\"epoch\",\n",
        "    logging_dir=\"./logs\",\n",
        "    per_device_train_batch_size=4,\n",
        "    per_device_eval_batch_size=4,\n",
        "    num_train_epochs=3,\n",
        "    learning_rate=5e-5,\n",
        "    warmup_steps=500,\n",
        "    weight_decay=0.01,\n",
        "    report_to=\"tensorboard\",\n",
        ")\n",
        "\n",
        "trainer = Trainer(\n",
        "    model=lora_model,\n",
        "    args=training_args,\n",
        "    train_dataset=preprocessed_train_ds,\n",
        "    eval_dataset=preprocessed_validation_ds,\n",
        "    tokenizer=tokenizer,\n",
        "    compute_metrics=compute_metrics,\n",
        ")"
      ],
      "metadata": {
        "id": "OkGvY1li8W65"
      },
      "id": "OkGvY1li8W65",
      "execution_count": null,
      "outputs": []
    },
    {
      "cell_type": "code",
      "source": [
        "trainer.train()"
      ],
      "metadata": {
        "id": "kWUFBdbT8_X7"
      },
      "id": "kWUFBdbT8_X7",
      "execution_count": null,
      "outputs": []
    },
    {
      "cell_type": "code",
      "source": [
        "results = trainer.evaluate(eval_dataset=preprocessed_test_ds)"
      ],
      "metadata": {
        "id": "hlGGjjK59BVZ"
      },
      "id": "hlGGjjK59BVZ",
      "execution_count": null,
      "outputs": []
    },
    {
      "cell_type": "code",
      "execution_count": null,
      "id": "c4d4c908",
      "metadata": {
        "id": "c4d4c908"
      },
      "outputs": [],
      "source": [
        "lora_model.save_pretrained(\"gpt-lora\")"
      ]
    },
    {
      "cell_type": "markdown",
      "id": "615b12c6",
      "metadata": {
        "id": "615b12c6"
      },
      "source": [
        "# Performing Inference with a PEFT Model"
      ]
    },
    {
      "cell_type": "code",
      "source": [
        "lora_model = AutoPeftModelForCausalLM.from_pretrained(\"gpt-lora\")"
      ],
      "metadata": {
        "id": "yvzuV6mJ8T_s"
      },
      "id": "yvzuV6mJ8T_s",
      "execution_count": null,
      "outputs": []
    },
    {
      "cell_type": "code",
      "execution_count": null,
      "id": "863ec66e",
      "metadata": {
        "id": "863ec66e"
      },
      "outputs": [],
      "source": [
        "inputs = tokenizer(\"Hello, my name is \", return_tensors=\"pt\")\n",
        "outputs = lora_model.generate(input_ids=inputs[\"input_ids\"], max_new_tokens=10)\n",
        "\n",
        "tokenizer.batch_decode(outputs)"
      ]
    }
  ],
  "metadata": {
    "kernelspec": {
      "display_name": "Python 3",
      "name": "python3"
    },
    "language_info": {
      "codemirror_mode": {
        "name": "ipython",
        "version": 3
      },
      "file_extension": ".py",
      "mimetype": "text/x-python",
      "name": "python",
      "nbconvert_exporter": "python",
      "pygments_lexer": "ipython3",
      "version": "3.10.11"
    },
    "colab": {
      "provenance": []
    }
  },
  "nbformat": 4,
  "nbformat_minor": 5
}